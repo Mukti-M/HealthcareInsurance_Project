{
  "cells": [
    {
      "cell_type": "markdown",
      "metadata": {
        "id": "0aStgWSO0E0E"
      },
      "source": [
        "Healthcare Insurance Project"
      ]
    },
    {
      "cell_type": "markdown",
      "metadata": {
        "id": "1eLEkw5O0ECa"
      },
      "source": [
        "## Objectives\n",
        "We got data source form Kaggle https://www.kaggle.com/datasets/willianoliveiragibin/healthcare-insurance.\n",
        "Dataset contain different personal attributes and regional factors and their imapct on healthcare insurance charges.Study approaches for collecting different types of data from data source for healthcare insurance project.\n",
        "\n",
        "## Inputs\n",
        "It contains information on the relationship between personal attributes (age, gender, BMI: body mass index, family size, smoking habits), geographic factors, and their influence on medical insurance charges\n",
        "\n",
        "\n",
        "## Outputs\n",
        "Descriptive Statistics: Display basic statistics such as average insurance charges by age, gender, and region.\n",
        "Correlation Analysis: Visualise correlations between different attributes and insurance charges.\n",
        "Predictive Analysis: Develop and visualise predictive reports for estimating insurance costs.\n",
        "Geographic Analysis: Visualise the impact of geographic regions on insurance charges.\n",
        "\n",
        "\n",
        "## Additional Comments\n",
        " \n",
        "\n"
      ]
    },
    {
      "cell_type": "markdown",
      "metadata": {
        "id": "9uWZXH9LwoQg"
      },
      "source": [
        "---"
      ]
    },
    {
      "cell_type": "markdown",
      "metadata": {
        "id": "cqP-UeN-z3i2"
      },
      "source": [
        "# Change working directory"
      ]
    },
    {
      "cell_type": "markdown",
      "metadata": {},
      "source": [
        "* We are assuming you will store the notebooks in a subfolder, therefore when running the notebook in the editor, you will need to change the working directory"
      ]
    },
    {
      "cell_type": "markdown",
      "metadata": {
        "id": "aOGIGS-uz3i2"
      },
      "source": [
        "We need to change the working directory from its current folder to its parent folder\n",
        "* We access the current directory with os.getcwd()"
      ]
    },
    {
      "cell_type": "code",
      "execution_count": 254,
      "metadata": {
        "id": "wZfF_j-Bz3i4",
        "outputId": "66943449-1436-4c3d-85c7-b85f9f78349b"
      },
      "outputs": [
        {
          "data": {
            "text/plain": [
              "'/'"
            ]
          },
          "execution_count": 254,
          "metadata": {},
          "output_type": "execute_result"
        }
      ],
      "source": [
        "import os\n",
        "current_dir = os.getcwd()\n",
        "current_dir"
      ]
    },
    {
      "cell_type": "markdown",
      "metadata": {
        "id": "9MWW8E7lz3i7"
      },
      "source": [
        "We want to make the parent of the current directory the new current directory\n",
        "* os.path.dirname() gets the parent directory\n",
        "* os.chir() defines the new current directory"
      ]
    },
    {
      "cell_type": "code",
      "execution_count": 255,
      "metadata": {
        "id": "TwHsQRWjz3i9",
        "outputId": "86849db3-cd2f-4cc5-ebb8-2d0caafa1a2c"
      },
      "outputs": [
        {
          "name": "stdout",
          "output_type": "stream",
          "text": [
            "You set a new current directory\n"
          ]
        }
      ],
      "source": [
        "os.chdir(os.path.dirname(current_dir))\n",
        "print(\"You set a new current directory\")"
      ]
    },
    {
      "cell_type": "markdown",
      "metadata": {
        "id": "M_xPk_Ijz3i-"
      },
      "source": [
        "Confirm the new current directory"
      ]
    },
    {
      "cell_type": "code",
      "execution_count": 256,
      "metadata": {
        "id": "vz3S-_kjz3jA",
        "outputId": "00b79ae4-75d0-4a96-d193-ac9ef9847ea2"
      },
      "outputs": [
        {
          "data": {
            "text/plain": [
              "'/'"
            ]
          },
          "execution_count": 256,
          "metadata": {},
          "output_type": "execute_result"
        }
      ],
      "source": [
        "current_dir = os.getcwd()\n",
        "current_dir"
      ]
    },
    {
      "cell_type": "markdown",
      "metadata": {
        "id": "-mavJ8DibrcQ"
      },
      "source": [
        "# Section 1"
      ]
    },
    {
      "cell_type": "markdown",
      "metadata": {},
      "source": [
        "Extracting the datasource"
      ]
    },
    {
      "cell_type": "code",
      "execution_count": 257,
      "metadata": {},
      "outputs": [
        {
          "data": {
            "text/html": [
              "<div>\n",
              "<style scoped>\n",
              "    .dataframe tbody tr th:only-of-type {\n",
              "        vertical-align: middle;\n",
              "    }\n",
              "\n",
              "    .dataframe tbody tr th {\n",
              "        vertical-align: top;\n",
              "    }\n",
              "\n",
              "    .dataframe thead th {\n",
              "        text-align: right;\n",
              "    }\n",
              "</style>\n",
              "<table border=\"1\" class=\"dataframe\">\n",
              "  <thead>\n",
              "    <tr style=\"text-align: right;\">\n",
              "      <th></th>\n",
              "      <th>age</th>\n",
              "      <th>sex</th>\n",
              "      <th>bmi</th>\n",
              "      <th>children</th>\n",
              "      <th>smoker</th>\n",
              "      <th>region</th>\n",
              "      <th>charges</th>\n",
              "    </tr>\n",
              "  </thead>\n",
              "  <tbody>\n",
              "    <tr>\n",
              "      <th>0</th>\n",
              "      <td>19</td>\n",
              "      <td>female</td>\n",
              "      <td>27.900</td>\n",
              "      <td>0</td>\n",
              "      <td>yes</td>\n",
              "      <td>southwest</td>\n",
              "      <td>16884.92400</td>\n",
              "    </tr>\n",
              "    <tr>\n",
              "      <th>1</th>\n",
              "      <td>18</td>\n",
              "      <td>male</td>\n",
              "      <td>33.770</td>\n",
              "      <td>1</td>\n",
              "      <td>no</td>\n",
              "      <td>southeast</td>\n",
              "      <td>1725.55230</td>\n",
              "    </tr>\n",
              "    <tr>\n",
              "      <th>2</th>\n",
              "      <td>28</td>\n",
              "      <td>male</td>\n",
              "      <td>33.000</td>\n",
              "      <td>3</td>\n",
              "      <td>no</td>\n",
              "      <td>southeast</td>\n",
              "      <td>4449.46200</td>\n",
              "    </tr>\n",
              "    <tr>\n",
              "      <th>3</th>\n",
              "      <td>33</td>\n",
              "      <td>male</td>\n",
              "      <td>22.705</td>\n",
              "      <td>0</td>\n",
              "      <td>no</td>\n",
              "      <td>northwest</td>\n",
              "      <td>21984.47061</td>\n",
              "    </tr>\n",
              "    <tr>\n",
              "      <th>4</th>\n",
              "      <td>32</td>\n",
              "      <td>male</td>\n",
              "      <td>28.880</td>\n",
              "      <td>0</td>\n",
              "      <td>no</td>\n",
              "      <td>northwest</td>\n",
              "      <td>3866.85520</td>\n",
              "    </tr>\n",
              "    <tr>\n",
              "      <th>...</th>\n",
              "      <td>...</td>\n",
              "      <td>...</td>\n",
              "      <td>...</td>\n",
              "      <td>...</td>\n",
              "      <td>...</td>\n",
              "      <td>...</td>\n",
              "      <td>...</td>\n",
              "    </tr>\n",
              "    <tr>\n",
              "      <th>1333</th>\n",
              "      <td>50</td>\n",
              "      <td>male</td>\n",
              "      <td>30.970</td>\n",
              "      <td>3</td>\n",
              "      <td>no</td>\n",
              "      <td>northwest</td>\n",
              "      <td>10600.54830</td>\n",
              "    </tr>\n",
              "    <tr>\n",
              "      <th>1334</th>\n",
              "      <td>18</td>\n",
              "      <td>female</td>\n",
              "      <td>31.920</td>\n",
              "      <td>0</td>\n",
              "      <td>no</td>\n",
              "      <td>northeast</td>\n",
              "      <td>2205.98080</td>\n",
              "    </tr>\n",
              "    <tr>\n",
              "      <th>1335</th>\n",
              "      <td>18</td>\n",
              "      <td>female</td>\n",
              "      <td>36.850</td>\n",
              "      <td>0</td>\n",
              "      <td>no</td>\n",
              "      <td>southeast</td>\n",
              "      <td>1629.83350</td>\n",
              "    </tr>\n",
              "    <tr>\n",
              "      <th>1336</th>\n",
              "      <td>21</td>\n",
              "      <td>female</td>\n",
              "      <td>25.800</td>\n",
              "      <td>0</td>\n",
              "      <td>no</td>\n",
              "      <td>southwest</td>\n",
              "      <td>2007.94500</td>\n",
              "    </tr>\n",
              "    <tr>\n",
              "      <th>1337</th>\n",
              "      <td>61</td>\n",
              "      <td>female</td>\n",
              "      <td>29.070</td>\n",
              "      <td>0</td>\n",
              "      <td>yes</td>\n",
              "      <td>northwest</td>\n",
              "      <td>29141.36030</td>\n",
              "    </tr>\n",
              "  </tbody>\n",
              "</table>\n",
              "<p>1338 rows × 7 columns</p>\n",
              "</div>"
            ],
            "text/plain": [
              "      age     sex     bmi  children smoker     region      charges\n",
              "0      19  female  27.900         0    yes  southwest  16884.92400\n",
              "1      18    male  33.770         1     no  southeast   1725.55230\n",
              "2      28    male  33.000         3     no  southeast   4449.46200\n",
              "3      33    male  22.705         0     no  northwest  21984.47061\n",
              "4      32    male  28.880         0     no  northwest   3866.85520\n",
              "...   ...     ...     ...       ...    ...        ...          ...\n",
              "1333   50    male  30.970         3     no  northwest  10600.54830\n",
              "1334   18  female  31.920         0     no  northeast   2205.98080\n",
              "1335   18  female  36.850         0     no  southeast   1629.83350\n",
              "1336   21  female  25.800         0     no  southwest   2007.94500\n",
              "1337   61  female  29.070         0    yes  northwest  29141.36030\n",
              "\n",
              "[1338 rows x 7 columns]"
            ]
          },
          "execution_count": 257,
          "metadata": {},
          "output_type": "execute_result"
        }
      ],
      "source": [
        "import numpy as np    # importing numpy functions\n",
        "import pandas as pd   # panda functions\n",
        "import matplotlib.pyplot as plt\n",
        "import seaborn as sns\n",
        "sns.set_style('whitegrid')\n",
        "from sklearn.pipeline import Pipeline\n",
        "from feature_engine.encoding import OneHotEncoder\n",
        "df_insurance = pd.read_csv(\"/workspace/HealthcareInsurance_Project/insurance.csv\") # reading file and extract data in tabular format\n",
        "df_insurance"
      ]
    },
    {
      "cell_type": "markdown",
      "metadata": {
        "id": "ZY3l0-AxO93d"
      },
      "source": [
        "---"
      ]
    },
    {
      "cell_type": "markdown",
      "metadata": {
        "id": "uFQo3ycuO-v6"
      },
      "source": [
        " Transform: Clean the data, handle missing values, encode categorical variables, and create new features such as body mass index (BMI) categories."
      ]
    },
    {
      "cell_type": "markdown",
      "metadata": {},
      "source": [
        "Section 2 content"
      ]
    },
    {
      "cell_type": "code",
      "execution_count": 258,
      "metadata": {},
      "outputs": [],
      "source": [
        "df_insurance = df_insurance.drop_duplicates() # check for duplicates and remove them\n"
      ]
    },
    {
      "cell_type": "code",
      "execution_count": 259,
      "metadata": {},
      "outputs": [
        {
          "data": {
            "text/plain": [
              "age         0\n",
              "sex         0\n",
              "bmi         0\n",
              "children    0\n",
              "smoker      0\n",
              "region      0\n",
              "charges     0\n",
              "dtype: int64"
            ]
          },
          "execution_count": 259,
          "metadata": {},
          "output_type": "execute_result"
        }
      ],
      "source": [
        "df_insurance.isnull().sum()  # check for Missing values or data"
      ]
    },
    {
      "cell_type": "code",
      "execution_count": 260,
      "metadata": {},
      "outputs": [
        {
          "data": {
            "text/html": [
              "<div>\n",
              "<style scoped>\n",
              "    .dataframe tbody tr th:only-of-type {\n",
              "        vertical-align: middle;\n",
              "    }\n",
              "\n",
              "    .dataframe tbody tr th {\n",
              "        vertical-align: top;\n",
              "    }\n",
              "\n",
              "    .dataframe thead th {\n",
              "        text-align: right;\n",
              "    }\n",
              "</style>\n",
              "<table border=\"1\" class=\"dataframe\">\n",
              "  <thead>\n",
              "    <tr style=\"text-align: right;\">\n",
              "      <th></th>\n",
              "      <th>sex_female</th>\n",
              "      <th>smoker_yes</th>\n",
              "      <th>region_southwest</th>\n",
              "      <th>region_southeast</th>\n",
              "      <th>region_northwest</th>\n",
              "    </tr>\n",
              "  </thead>\n",
              "  <tbody>\n",
              "    <tr>\n",
              "      <th>0</th>\n",
              "      <td>1</td>\n",
              "      <td>1</td>\n",
              "      <td>1</td>\n",
              "      <td>0</td>\n",
              "      <td>0</td>\n",
              "    </tr>\n",
              "    <tr>\n",
              "      <th>1</th>\n",
              "      <td>0</td>\n",
              "      <td>0</td>\n",
              "      <td>0</td>\n",
              "      <td>1</td>\n",
              "      <td>0</td>\n",
              "    </tr>\n",
              "    <tr>\n",
              "      <th>2</th>\n",
              "      <td>0</td>\n",
              "      <td>0</td>\n",
              "      <td>0</td>\n",
              "      <td>1</td>\n",
              "      <td>0</td>\n",
              "    </tr>\n",
              "    <tr>\n",
              "      <th>3</th>\n",
              "      <td>0</td>\n",
              "      <td>0</td>\n",
              "      <td>0</td>\n",
              "      <td>0</td>\n",
              "      <td>1</td>\n",
              "    </tr>\n",
              "    <tr>\n",
              "      <th>4</th>\n",
              "      <td>0</td>\n",
              "      <td>0</td>\n",
              "      <td>0</td>\n",
              "      <td>0</td>\n",
              "      <td>1</td>\n",
              "    </tr>\n",
              "    <tr>\n",
              "      <th>...</th>\n",
              "      <td>...</td>\n",
              "      <td>...</td>\n",
              "      <td>...</td>\n",
              "      <td>...</td>\n",
              "      <td>...</td>\n",
              "    </tr>\n",
              "    <tr>\n",
              "      <th>1333</th>\n",
              "      <td>0</td>\n",
              "      <td>0</td>\n",
              "      <td>0</td>\n",
              "      <td>0</td>\n",
              "      <td>1</td>\n",
              "    </tr>\n",
              "    <tr>\n",
              "      <th>1334</th>\n",
              "      <td>1</td>\n",
              "      <td>0</td>\n",
              "      <td>0</td>\n",
              "      <td>0</td>\n",
              "      <td>0</td>\n",
              "    </tr>\n",
              "    <tr>\n",
              "      <th>1335</th>\n",
              "      <td>1</td>\n",
              "      <td>0</td>\n",
              "      <td>0</td>\n",
              "      <td>1</td>\n",
              "      <td>0</td>\n",
              "    </tr>\n",
              "    <tr>\n",
              "      <th>1336</th>\n",
              "      <td>1</td>\n",
              "      <td>0</td>\n",
              "      <td>1</td>\n",
              "      <td>0</td>\n",
              "      <td>0</td>\n",
              "    </tr>\n",
              "    <tr>\n",
              "      <th>1337</th>\n",
              "      <td>1</td>\n",
              "      <td>1</td>\n",
              "      <td>0</td>\n",
              "      <td>0</td>\n",
              "      <td>1</td>\n",
              "    </tr>\n",
              "  </tbody>\n",
              "</table>\n",
              "<p>1338 rows × 5 columns</p>\n",
              "</div>"
            ],
            "text/plain": [
              "      sex_female  smoker_yes  region_southwest  region_southeast  \\\n",
              "0              1           1                 1                 0   \n",
              "1              0           0                 0                 1   \n",
              "2              0           0                 0                 1   \n",
              "3              0           0                 0                 0   \n",
              "4              0           0                 0                 0   \n",
              "...          ...         ...               ...               ...   \n",
              "1333           0           0                 0                 0   \n",
              "1334           1           0                 0                 0   \n",
              "1335           1           0                 0                 1   \n",
              "1336           1           0                 1                 0   \n",
              "1337           1           1                 0                 0   \n",
              "\n",
              "      region_northwest  \n",
              "0                    0  \n",
              "1                    0  \n",
              "2                    0  \n",
              "3                    1  \n",
              "4                    1  \n",
              "...                ...  \n",
              "1333                 1  \n",
              "1334                 0  \n",
              "1335                 0  \n",
              "1336                 0  \n",
              "1337                 1  \n",
              "\n",
              "[1338 rows x 5 columns]"
            ]
          },
          "execution_count": 260,
          "metadata": {},
          "output_type": "execute_result"
        }
      ],
      "source": [
        "df_insurance = pd.read_csv(\"/workspace/HealthcareInsurance_Project/insurance.csv\").filter(['sex', 'smoker','region'])\n",
        "from feature_engine.imputation import DropMissingData\n",
        "pipeline = Pipeline([\n",
        "      ( 'drop_na', DropMissingData() ),\n",
        "      ('ohe', OneHotEncoder(variables=['sex','smoker','region'], drop_last=True) )\n",
        "])\n",
        "\n",
        "\n",
        "df_insurance = pipeline.fit_transform(df_insurance)\n",
        "df_insurance"
      ]
    },
    {
      "cell_type": "code",
      "execution_count": 261,
      "metadata": {},
      "outputs": [
        {
          "name": "stdout",
          "output_type": "stream",
          "text": [
            "   age     sex     bmi  children smoker     region      charges  bmi_category\n",
            "0   19  female  27.900         0    yes  southwest  16884.92400             2\n",
            "1   18    male  33.770         1     no  southeast   1725.55230             3\n",
            "2   28    male  33.000         3     no  southeast   4449.46200             3\n",
            "3   33    male  22.705         0     no  northwest  21984.47061             1\n",
            "4   32    male  28.880         0     no  northwest   3866.85520             2\n"
          ]
        }
      ],
      "source": [
        "# Create new features such as body mass index (BMI) categories\n",
        "df_insurance = pd.read_csv(\"/workspace/HealthcareInsurance_Project/insurance.csv\")  # extracting data from datasource\n",
        "def categorize_bmi(bmi):\n",
        "    if bmi < 18.5:\n",
        "        return \"Underweight\"\n",
        "    elif 18.5 <= bmi < 24.0:\n",
        "        return \"Normal\"\n",
        "    elif 24.0 <= bmi < 29.9:\n",
        "        return \"Overweight\"\n",
        "    else:\n",
        "        return \"Obese\"\n",
        "\n",
        "df_insurance['bmi_category'] = df_insurance['bmi'].apply(categorize_bmi)\n",
        "# Optional transition - Encoding BMI categories as ordinal values\n",
        "bmi_mapping = {'Underweight': 0, 'Normal': 1, 'Overweight': 2, 'Obese': 3}\n",
        "df_insurance['bmi_category'] = df_insurance['bmi_category'].map(bmi_mapping)\n",
        "\n",
        "print(df_insurance.head())  # Displays final output"
      ]
    },
    {
      "cell_type": "code",
      "execution_count": 262,
      "metadata": {},
      "outputs": [
        {
          "name": "stdout",
          "output_type": "stream",
          "text": [
            "sex             object\n",
            "smoker          object\n",
            "region          object\n",
            "bmi_category     int64\n",
            "dtype: object\n"
          ]
        }
      ],
      "source": [
        "print(df_insurance[['sex', 'smoker', 'region', 'bmi_category']].dtypes)  # displays datatypes for given categories"
      ]
    },
    {
      "cell_type": "code",
      "execution_count": 263,
      "metadata": {},
      "outputs": [],
      "source": [
        "categorical_vars = ['sex', 'smoker', 'region', 'bmi_category']\n",
        "df_insurance[categorical_vars] = df_insurance[categorical_vars].astype('category')  # method returns data types has been changed to the specified type."
      ]
    },
    {
      "cell_type": "code",
      "execution_count": 264,
      "metadata": {},
      "outputs": [
        {
          "name": "stdout",
          "output_type": "stream",
          "text": [
            "sex             category\n",
            "smoker          category\n",
            "region          category\n",
            "bmi_category    category\n",
            "dtype: object\n"
          ]
        }
      ],
      "source": [
        "print(df_insurance[categorical_vars].dtypes)  # displays changed data types for variable"
      ]
    },
    {
      "cell_type": "code",
      "execution_count": 265,
      "metadata": {},
      "outputs": [
        {
          "name": "stdout",
          "output_type": "stream",
          "text": [
            "sex             0\n",
            "smoker          0\n",
            "region          0\n",
            "bmi_category    0\n",
            "dtype: int64\n"
          ]
        }
      ],
      "source": [
        "print(df_insurance[['sex', 'smoker', 'region', 'bmi_category']].isnull().sum()) # Displays any missing value for given categories"
      ]
    },
    {
      "cell_type": "code",
      "execution_count": 266,
      "metadata": {},
      "outputs": [
        {
          "name": "stdout",
          "output_type": "stream",
          "text": [
            "sex ['female', 'male']\n",
            "Categories (2, object): ['female', 'male']\n",
            "smoker ['yes', 'no']\n",
            "Categories (2, object): ['no', 'yes']\n",
            "region ['southwest', 'southeast', 'northwest', 'northeast']\n",
            "Categories (4, object): ['northeast', 'northwest', 'southeast', 'southwest']\n",
            "bmi_category [2, 3, 1, 0]\n",
            "Categories (4, int64): [0, 1, 2, 3]\n"
          ]
        }
      ],
      "source": [
        "for col in categorical_vars:\n",
        "    print(col, df_insurance[col].unique())"
      ]
    },
    {
      "cell_type": "code",
      "execution_count": 267,
      "metadata": {},
      "outputs": [],
      "source": [
        "for col in categorical_vars:\n",
        "    df_insurance[col] = df_insurance[col].astype(str)"
      ]
    },
    {
      "cell_type": "code",
      "execution_count": 268,
      "metadata": {},
      "outputs": [
        {
          "name": "stdout",
          "output_type": "stream",
          "text": [
            "      age     bmi  children      charges  sex_female  smoker_yes  \\\n",
            "0      19  27.900         0  16884.92400           1           1   \n",
            "1      18  33.770         1   1725.55230           0           0   \n",
            "2      28  33.000         3   4449.46200           0           0   \n",
            "3      33  22.705         0  21984.47061           0           0   \n",
            "4      32  28.880         0   3866.85520           0           0   \n",
            "...   ...     ...       ...          ...         ...         ...   \n",
            "1333   50  30.970         3  10600.54830           0           0   \n",
            "1334   18  31.920         0   2205.98080           1           0   \n",
            "1335   18  36.850         0   1629.83350           1           0   \n",
            "1336   21  25.800         0   2007.94500           1           0   \n",
            "1337   61  29.070         0  29141.36030           1           1   \n",
            "\n",
            "      region_southwest  region_southeast  region_northwest  bmi_category_2  \\\n",
            "0                    1                 0                 0               1   \n",
            "1                    0                 1                 0               0   \n",
            "2                    0                 1                 0               0   \n",
            "3                    0                 0                 1               0   \n",
            "4                    0                 0                 1               1   \n",
            "...                ...               ...               ...             ...   \n",
            "1333                 0                 0                 1               0   \n",
            "1334                 0                 0                 0               0   \n",
            "1335                 0                 1                 0               0   \n",
            "1336                 1                 0                 0               1   \n",
            "1337                 0                 0                 1               1   \n",
            "\n",
            "      bmi_category_3  bmi_category_1  \n",
            "0                  0               0  \n",
            "1                  1               0  \n",
            "2                  1               0  \n",
            "3                  0               1  \n",
            "4                  0               0  \n",
            "...              ...             ...  \n",
            "1333               1               0  \n",
            "1334               1               0  \n",
            "1335               1               0  \n",
            "1336               0               0  \n",
            "1337               0               0  \n",
            "\n",
            "[1338 rows x 12 columns]\n"
          ]
        }
      ],
      "source": [
        "from feature_engine.imputation import DropMissingData\n",
        "from feature_engine.encoding import OneHotEncoder\n",
        "from sklearn.pipeline import Pipeline\n",
        "\n",
        "pipeline = Pipeline([\n",
        "    ('drop_na', DropMissingData()),\n",
        "    ('ohe', OneHotEncoder(variables=['sex', 'smoker', 'region', 'bmi_category'], drop_last=True))\n",
        "])\n",
        "\n",
        "df_transformed = pipeline.fit_transform(df_insurance)\n",
        "print(df_transformed)"
      ]
    },
    {
      "cell_type": "code",
      "execution_count": 269,
      "metadata": {},
      "outputs": [
        {
          "name": "stdout",
          "output_type": "stream",
          "text": [
            "Average Insurance Charges by Age:\n",
            "    age       charges\n",
            "0    18   7086.217556\n",
            "1    19   9747.909335\n",
            "2    20  10159.697736\n",
            "3    21   4730.464330\n",
            "4    22  10012.932802\n",
            "5    23  12419.820040\n",
            "6    24  10648.015962\n",
            "7    25   9838.365311\n",
            "8    26   6133.825309\n",
            "9    27  12184.701721\n",
            "10   28   9069.187564\n",
            "11   29  10430.158727\n",
            "12   30  12719.110358\n",
            "13   31  10196.980573\n",
            "14   32   9220.300291\n",
            "15   33  12351.532987\n",
            "16   34  11613.528121\n",
            "17   35  11307.182031\n",
            "18   36  12204.476138\n",
            "19   37  18019.911877\n",
            "20   38   8102.733674\n",
            "21   39  11778.242945\n",
            "22   40  11772.251310\n",
            "23   41   9653.745650\n",
            "24   42  13061.038669\n",
            "25   43  19267.278653\n",
            "26   44  15859.396587\n",
            "27   45  14830.199856\n",
            "28   46  14342.590639\n",
            "29   47  17653.999593\n",
            "30   48  14632.500445\n",
            "31   49  12696.006264\n",
            "32   50  15663.003301\n",
            "33   51  15682.255867\n",
            "34   52  18256.269719\n",
            "35   53  16020.930755\n",
            "36   54  18758.546475\n",
            "37   55  16164.545488\n",
            "38   56  15025.515837\n",
            "39   57  16447.185250\n",
            "40   58  13878.928112\n",
            "41   59  18895.869532\n",
            "42   60  21979.418507\n",
            "43   61  22024.457609\n",
            "44   62  19163.856573\n",
            "45   63  19884.998461\n",
            "46   64  23275.530837\n"
          ]
        }
      ],
      "source": [
        "# Descriptive Statistics: Display basic statistics such as average insurance charges by age, gender, and region.\n",
        "avg_by_age = df_insurance.groupby('age')['charges'].mean().reset_index()   #average insurance charges by age\n",
        "print(\"Average Insurance Charges by Age:\")\n",
        "print(avg_by_age)\n"
      ]
    },
    {
      "cell_type": "code",
      "execution_count": 270,
      "metadata": {},
      "outputs": [
        {
          "name": "stdout",
          "output_type": "stream",
          "text": [
            "\n",
            "Average Insurance Charges by Gender:\n",
            "      sex       charges\n",
            "0  female  12569.578844\n",
            "1    male  13956.751178\n"
          ]
        }
      ],
      "source": [
        "avg_by_gender = df_insurance.groupby('sex')['charges'].mean().reset_index()  #average insurance charges by sex\n",
        "print(\"\\nAverage Insurance Charges by Gender:\")\n",
        "print(avg_by_gender)\n"
      ]
    },
    {
      "cell_type": "code",
      "execution_count": 271,
      "metadata": {},
      "outputs": [
        {
          "name": "stdout",
          "output_type": "stream",
          "text": [
            "\n",
            "Average Insurance Charges by Region:\n",
            "      region       charges\n",
            "0  northeast  13406.384516\n",
            "1  northwest  12417.575374\n",
            "2  southeast  14735.411438\n",
            "3  southwest  12346.937377\n"
          ]
        }
      ],
      "source": [
        "avg_by_region = df_insurance.groupby('region')['charges'].mean().reset_index()   #average insurance charges by region\n",
        "print(\"\\nAverage Insurance Charges by Region:\")\n",
        "print(avg_by_region)"
      ]
    },
    {
      "cell_type": "code",
      "execution_count": 272,
      "metadata": {},
      "outputs": [
        {
          "data": {
            "image/png": "[encoded data removed]",
            "text/plain": [
              "<Figure size 1000x800 with 2 Axes>"
            ]
          },
          "metadata": {},
          "output_type": "display_data"
        }
      ],
      "source": [
        "# Correlation Analysis: Visualise correlations between different attributes and insurance charges.\n",
        "df_insurance_encoded = pd.get_dummies(df_insurance,columns=['sex', 'smoker', 'region'], drop_first=True) # Converting categorical variables to numerical form for correlation Analysis\n",
        "correlation_matrix = df_insurance_encoded.corr()\n",
        "plt.figure(figsize=(10, 8))                                   # Plot heatmap for the given dataset\n",
        "sns.heatmap(correlation_matrix, annot=True, fmt=\".2f\", cmap=\"seismic\")\n",
        "plt.title(\"Correlation Matrix of Insurance Data\")\n",
        "plt.show()"
      ]
    },
    {
      "cell_type": "code",
      "execution_count": 273,
      "metadata": {},
      "outputs": [],
      "source": [
        "# Predictive Analysis: Develop and visualise predictive reports for estimating insurance costs.\n"
      ]
    },
    {
      "cell_type": "code",
      "execution_count": 274,
      "metadata": {},
      "outputs": [
        {
          "data": {
            "image/png": "[encoded data removed]",
            "text/plain": [
              "<Figure size 640x480 with 1 Axes>"
            ]
          },
          "metadata": {},
          "output_type": "display_data"
        }
      ],
      "source": [
        "# Geographic Analysis: Visualise the impact of geographic regions on insurance charges.\n",
        "region_charges = df_insurance.groupby(['region'])['charges'].sum().reset_index()\n",
        "plt.pie(region_charges['charges'], labels = region_charges['region'], autopct='%1.2f%%')\n",
        "plt.legend(title='Region')\n",
        "plt.title('Regionwise Insurance Charges')\n",
        "plt.show()"
      ]
    },
    {
      "cell_type": "markdown",
      "metadata": {},
      "source": [
        "---"
      ]
    },
    {
      "cell_type": "markdown",
      "metadata": {
        "id": "ltNetd085qHf"
      },
      "source": [
        "# Push files to Repo"
      ]
    },
    {
      "cell_type": "markdown",
      "metadata": {},
      "source": [
        "* In cases where you don't need to push files to Repo, you may replace this section with \"Conclusions and Next Steps\" and state your conclusions and next steps."
      ]
    },
    {
      "cell_type": "code",
      "execution_count": 275,
      "metadata": {
        "id": "aKlnIozA4eQO",
        "outputId": "fd09bc1f-adb1-4511-f6ce-492a6af570c0"
      },
      "outputs": [
        {
          "ename": "IndentationError",
          "evalue": "expected an indented block (3480282049.py, line 5)",
          "output_type": "error",
          "traceback": [
            "\u001b[0;36m  Cell \u001b[0;32mIn[275], line 5\u001b[0;36m\u001b[0m\n\u001b[0;31m    except Exception as e:\u001b[0m\n\u001b[0m    ^\u001b[0m\n\u001b[0;31mIndentationError\u001b[0m\u001b[0;31m:\u001b[0m expected an indented block\n"
          ]
        }
      ],
      "source": [
        "import os\n",
        "try:\n",
        "  # create your folder here\n",
        "  # os.makedirs(name='')\n",
        "except Exception as e:\n",
        " print(e)\n"
      ]
    }
  ],
  "metadata": {
    "accelerator": "GPU",
    "colab": {
      "name": "Data Practitioner Jupyter Notebook.ipynb",
      "provenance": [],
      "toc_visible": true
    },
    "kernelspec": {
      "display_name": "Python 3",
      "language": "python",
      "name": "python3"
    },
    "language_info": {
      "codemirror_mode": {
        "name": "ipython",
        "version": 3
      },
      "file_extension": ".py",
      "mimetype": "text/x-python",
      "name": "python",
      "nbconvert_exporter": "python",
      "pygments_lexer": "ipython3",
      "version": "3.9.20"
    },
    "orig_nbformat": 2
  },
  "nbformat": 4,
  "nbformat_minor": 2
}
